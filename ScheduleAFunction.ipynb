{
 "cells": [
  {
   "cell_type": "code",
   "execution_count": 54,
   "metadata": {},
   "outputs": [
    {
     "name": "stdout",
     "output_type": "stream",
     "text": [
      "The current time on this computer is: 2023-05-02 18:01:07.740914\n",
      "Please the enter the time which you would like the function to run\n",
      "2023-05-02 18:01:07.740914\n",
      "<class 'datetime.datetime'>\n",
      "<class 'datetime.datetime'>\n",
      "<class 'float'>\n",
      "I will execute your function 52.259086 seconds from now (hopefully!)\n",
      "This is where the function runs at time:  2023-05-02 18:02:20.539587\n"
     ]
    }
   ],
   "source": [
    "\"\"\"This is the LinkedIn Level Up to schedule a function\"\"\"\n",
    "\n",
    "#Three inputs: event time, function, any  number of arguments\n",
    "# Requirements: sets alarm, plays sound file, and executes function\n",
    "#schedule_function(time.time()+1, print, 'Howdy')\n",
    "# pip install playsound\n",
    "\n",
    "from playsound import playsound\n",
    "#from pydub import AudioSegment\n",
    "#from pydub.playback import play\n",
    "\n",
    "import datetime\n",
    "import time\n",
    "import sched\n",
    " \n",
    "\n",
    "def schedule_function():\n",
    "    #recording time when function is called run and printing\n",
    "    current_time = datetime.datetime.now()\n",
    "    print (\"This is where the function runs at time: \", current_time)\n",
    "    #playing a sound\n",
    "    playsound(\"that_view.wav\")\n",
    "    return\n",
    "\n",
    "def big_function():\n",
    "    # using now() to get current time\n",
    "    current_time = datetime.datetime.now()\n",
    "    print(\"The current time on this computer is:\", current_time)\n",
    "    print(\"Please the enter the time which you would like the function to run\")\n",
    "    delay = input(\" in the following format <YEAR-mm-dd HH:MM:SS> using a 24 hour clock: \")\n",
    "    date_time = datetime.datetime.strptime(delay, \"%Y-%m-%d %H:%M:%S\")\n",
    "    print(date_time)\n",
    "    #print(date_time.timestamp())\n",
    "    print(type(date_time))\n",
    "    print(type(current_time))\n",
    "    #print(\"datetime \" + str(date_time))\n",
    "    #print(\"currenttime \" +str(current_time))\n",
    "    timedelta = date_time - current_time\n",
    "    seconds = timedelta.total_seconds()\n",
    "    print(type(seconds))\n",
    "    #print(current_time)\n",
    "    print(\"I will execute your function \" + str(seconds) + \" seconds from now (hopefully!)\")\n",
    "\n",
    "    #Scheduled event\n",
    "    s = sched.scheduler(time.perf_counter, time.sleep) #I have tried using different clocks to avoid delay to no avail\n",
    "    s.enter(seconds, 0, schedule_function) # I am getting delays of 12 - 30 seconds using this method\n",
    "    #s.enterabs(date_time.timestamp(), 0, schedule_function2)\n",
    "    s.run() #This blocks until the scheduled events have been run\n",
    "    return\n",
    "\n",
    "\n",
    "big_function()\n",
    "\n",
    "# I have created a question on Stack Overflow\n",
    "# https://stackoverflow.com/questions/76159664/need-to-reduce-scheduling-delays-using-python-sched-module\n",
    "\n",
    "#s = sched.scheduler(time.localtime, time.sleep)\n",
    "#s.enterabs(time.strptime('Tue May 01 11:05:17 2018'), 0, action)\n"
   ]
  },
  {
   "cell_type": "code",
   "execution_count": null,
   "metadata": {},
   "outputs": [],
   "source": []
  }
 ],
 "metadata": {
  "kernelspec": {
   "display_name": "Python 3",
   "language": "python",
   "name": "python3"
  },
  "language_info": {
   "codemirror_mode": {
    "name": "ipython",
    "version": 3
   },
   "file_extension": ".py",
   "mimetype": "text/x-python",
   "name": "python",
   "nbconvert_exporter": "python",
   "pygments_lexer": "ipython3",
   "version": "3.10.7"
  },
  "orig_nbformat": 4
 },
 "nbformat": 4,
 "nbformat_minor": 2
}
