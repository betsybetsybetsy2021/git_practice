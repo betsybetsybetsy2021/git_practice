{
 "cells": [
  {
   "cell_type": "code",
   "execution_count": null,
   "id": "9777d34d",
   "metadata": {},
   "outputs": [],
   "source": [
    "import numpy as np\n",
    "import math\n",
    "\n",
    "def find_prime_factors():  # this is a function to find factorization, useful for solving NYT's Digits Game \n",
    "                        # and a Level Up Challenge on LinkedIn Training\n",
    "    number = input(\"Please enter an integer:\") # requesting input\n",
    "    number = int(number) #changing from string to integer\n",
    "    prime_factors = []\n",
    "    while (number%2) == 0: # Checking for divisible by 2\n",
    "        number = number / 2 # Divide original number by 2\n",
    "        prime_factors.append(2) # Append a 2 to a list of factors\n",
    "    i = 3 # all further factors will be odd\n",
    "    #print(number)\n",
    "    while i <= number:\n",
    "        if number%i == 0: # check for no remainder on division which means i IS a factor\n",
    "            prime_factors.append(i) # append i to list as new factor\n",
    "            number = number/i # Divide number by newly found factor\n",
    "            #print(i)\n",
    "        else:\n",
    "            i = i+2 #if that isn't the factor increment by 2\n",
    "            #print(i)\n",
    "            \n",
    "    return prime_factors\n",
    "\n",
    "find_prime_factors()\n",
    "\n",
    "        \n",
    "    "
   ]
  },
  {
   "cell_type": "code",
   "execution_count": null,
   "id": "8446c539",
   "metadata": {},
   "outputs": [],
   "source": []
  }
 ],
 "metadata": {
  "kernelspec": {
   "display_name": "Python 3 (ipykernel)",
   "language": "python",
   "name": "python3"
  },
  "language_info": {
   "codemirror_mode": {
    "name": "ipython",
    "version": 3
   },
   "file_extension": ".py",
   "mimetype": "text/x-python",
   "name": "python",
   "nbconvert_exporter": "python",
   "pygments_lexer": "ipython3",
   "version": "3.10.9"
  }
 },
 "nbformat": 4,
 "nbformat_minor": 5
}
