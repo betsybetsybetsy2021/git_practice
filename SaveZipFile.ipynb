{
 "cells": [
  {
   "cell_type": "code",
   "execution_count": 23,
   "metadata": {},
   "outputs": [
    {
     "name": "stdout",
     "output_type": "stream",
     "text": [
      "['patton_no_fun.wav', 'my_wheaties.wav', 'original.avif', 'edison.wav', 'good_for.wav', 'harvey_gonads.wav', 'that_view.wav']\n",
      "ZIP file not created\n"
     ]
    }
   ],
   "source": [
    "\"\"\"Build a Zip Archive\"\"\"\n",
    "\n",
    "# Input: input directory path, list of file extensions, output file path\n",
    "# Output: a zip file\n",
    "# example input : zip_all('.\\\\mystuff, ['.jpg', '.txt'], my_stuff.zip')\n",
    "# should maintain folder structure relative to top level directory (Not sure about this requirement - subfolders?)\n",
    "\n",
    "import os\n",
    "import zlib\n",
    "import zipfile\n",
    "from zipfile import ZipFile\n",
    "\n",
    "\n",
    "def zip_all(input_path, extensions, zip_name):\n",
    "    \n",
    "    # Specifies the path\n",
    "    filename_list = []\n",
    "    extension_list = list(extensions)\n",
    "    for i in os.listdir(path):\n",
    "    # List files with extensions\n",
    "        for y in extension_list:\n",
    "            if i.endswith(y):\n",
    "                filename_list.append(i)\n",
    "    print (filename_list)\n",
    "\n",
    "    zip = zipfile.ZipFile(zip_name, \"w\", zipfile.ZIP_DEFLATED) #I know little of compression methods but this was recommended\n",
    "    for x in filename_list:\n",
    "        zip.write(x)\n",
    "    zip.close()\n",
    "\n",
    "    if os.path.exists('/home/hatenotwelcome/stuff.zip'):\n",
    "        print(\"ZIP file created\")\n",
    "    else:\n",
    "        print(\"ZIP file not created\")\n",
    "\n",
    "\n",
    "\n",
    "\n",
    "zip_all(\"/home/hatenotwelcome/\", ['.wav','.avif'], 'stuff2.zip')\n",
    "\n"
   ]
  },
  {
   "cell_type": "code",
   "execution_count": null,
   "metadata": {},
   "outputs": [],
   "source": []
  }
 ],
 "metadata": {
  "kernelspec": {
   "display_name": "Python 3",
   "language": "python",
   "name": "python3"
  },
  "language_info": {
   "codemirror_mode": {
    "name": "ipython",
    "version": 3
   },
   "file_extension": ".py",
   "mimetype": "text/x-python",
   "name": "python",
   "nbconvert_exporter": "python",
   "pygments_lexer": "ipython3",
   "version": "3.10.7"
  },
  "orig_nbformat": 4
 },
 "nbformat": 4,
 "nbformat_minor": 2
}
