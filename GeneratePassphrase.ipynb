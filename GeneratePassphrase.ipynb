{
 "cells": [
  {
   "cell_type": "code",
   "execution_count": 6,
   "metadata": {},
   "outputs": [
    {
     "name": "stdout",
     "output_type": "stream",
     "text": [
      "['unscathed', 'sixfold', 'bronchial', 'croon', 'scorecard']\n"
     ]
    }
   ],
   "source": [
    "\"\"\"LinkedIn warm-up Generate a Password\"\"\"\n",
    "\n",
    "# Input: number of words in passphrase\n",
    "# Output: string of random words, separated by spaces\n",
    "# Example recommends using secrets instead of numbers for secrity purposes, but the syntax I see online isn't working for me.  More investigation needed\n",
    "\n",
    "import random\n",
    "import pandas as pd\n",
    "import csv\n",
    "#from secrets import SystemRandom\n",
    "#rand = SystemRandom\n",
    "\n",
    "def gen_passphrase(word_count):\n",
    "    passphrase_list = []\n",
    "    \n",
    "    # length of passphrase determines number of words added to list / iterations\n",
    "    for count in range(word_count): \n",
    "        \n",
    "        #generate a random 5 digit passphrase to generate word from\n",
    "        number_string = \"\"\n",
    "        for x in range(5):\n",
    "            number_to_add = random.randrange(1, 7)\n",
    "            number_string = number_string + str(number_to_add)\n",
    "        #print(number_string)\n",
    "\n",
    "\n",
    "        #Now take the string and find its corresponding word from Diceware list\n",
    "        with open(\"EFF_wordlist.txt\") as eff:\n",
    "            tsv_reader = csv.reader(eff, delimiter = '\\t')\n",
    "\n",
    "            for line in tsv_reader:\n",
    "                assert len(line) == 2, f'Expected 2 columns but only have {len(row)}: {row}'\n",
    "                (number, word) = line\n",
    "                if number_string == number:\n",
    "                    passphrase_list.append(word)\n",
    "        \n",
    "\n",
    "    print (passphrase_list)    \n",
    "\n",
    "\n",
    "gen_passphrase(5)\n"
   ]
  },
  {
   "cell_type": "code",
   "execution_count": null,
   "metadata": {},
   "outputs": [],
   "source": []
  }
 ],
 "metadata": {
  "kernelspec": {
   "display_name": "Python 3",
   "language": "python",
   "name": "python3"
  },
  "language_info": {
   "codemirror_mode": {
    "name": "ipython",
    "version": 3
   },
   "file_extension": ".py",
   "mimetype": "text/x-python",
   "name": "python",
   "nbconvert_exporter": "python",
   "pygments_lexer": "ipython3",
   "version": "3.10.7"
  },
  "orig_nbformat": 4
 },
 "nbformat": 4,
 "nbformat_minor": 2
}
